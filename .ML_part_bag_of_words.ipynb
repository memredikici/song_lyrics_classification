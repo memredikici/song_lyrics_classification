{
 "cells": [
  {
   "cell_type": "code",
   "execution_count": 1,
   "id": "color-patrick",
   "metadata": {},
   "outputs": [],
   "source": [
    "import pandas as pd\n",
    "import seaborn as sns\n",
    "import matplotlib.pyplot as plt\n",
    "\n",
    "from sklearn.feature_extraction.text import CountVectorizer\n",
    "from sklearn.feature_extraction.text import TfidfVectorizer\n",
    "from sklearn.pipeline import make_pipeline\n",
    "from sklearn.ensemble import RandomForestClassifier\n",
    "from sklearn.model_selection import train_test_split\n",
    "from sklearn.metrics import accuracy_score\n",
    "from sklearn import metrics\n",
    "from sklearn.model_selection  import GridSearchCV\n",
    "from sklearn.linear_model import LogisticRegression\n"
   ]
  },
  {
   "cell_type": "code",
   "execution_count": 2,
   "id": "commercial-preserve",
   "metadata": {},
   "outputs": [
    {
     "data": {
      "text/html": [
       "<div>\n",
       "<style scoped>\n",
       "    .dataframe tbody tr th:only-of-type {\n",
       "        vertical-align: middle;\n",
       "    }\n",
       "\n",
       "    .dataframe tbody tr th {\n",
       "        vertical-align: top;\n",
       "    }\n",
       "\n",
       "    .dataframe thead th {\n",
       "        text-align: right;\n",
       "    }\n",
       "</style>\n",
       "<table border=\"1\" class=\"dataframe\">\n",
       "  <thead>\n",
       "    <tr style=\"text-align: right;\">\n",
       "      <th></th>\n",
       "      <th>lyrics</th>\n",
       "    </tr>\n",
       "    <tr>\n",
       "      <th>artist</th>\n",
       "      <th></th>\n",
       "    </tr>\n",
       "  </thead>\n",
       "  <tbody>\n",
       "    <tr>\n",
       "      <th>beyonce</th>\n",
       "      <td>[Repeat: x2] You were bad girl and your friend...</td>\n",
       "    </tr>\n",
       "    <tr>\n",
       "      <th>beyonce</th>\n",
       "      <td>Oh, baby, how you doing? You know I'm-a cut ri...</td>\n",
       "    </tr>\n",
       "    <tr>\n",
       "      <th>beyonce</th>\n",
       "      <td>Sometimes these walls seem to cave in on me Wh...</td>\n",
       "    </tr>\n",
       "    <tr>\n",
       "      <th>beyonce</th>\n",
       "      <td>All the ladies, if you feel me, help me sing i...</td>\n",
       "    </tr>\n",
       "    <tr>\n",
       "      <th>beyonce</th>\n",
       "      <td>Head down, as I watch my feet take turns hitti...</td>\n",
       "    </tr>\n",
       "    <tr>\n",
       "      <th>beyonce</th>\n",
       "      <td>To be or not to be  Not! Hold up, bring the be...</td>\n",
       "    </tr>\n",
       "    <tr>\n",
       "      <th>beyonce</th>\n",
       "      <td>Yeah, yeah, yeah, yeah, yeah Yeah, yeah, yeah,...</td>\n",
       "    </tr>\n",
       "    <tr>\n",
       "      <th>beyonce</th>\n",
       "      <td>(Ladies on the floor) (All my ladies on the fl...</td>\n",
       "    </tr>\n",
       "    <tr>\n",
       "      <th>beyonce</th>\n",
       "      <td>Yes It's so crazy right now Most incredibly, i...</td>\n",
       "    </tr>\n",
       "    <tr>\n",
       "      <th>beyonce</th>\n",
       "      <td>At first we started out real cool Taking me pl...</td>\n",
       "    </tr>\n",
       "  </tbody>\n",
       "</table>\n",
       "</div>"
      ],
      "text/plain": [
       "                                                    lyrics\n",
       "artist                                                    \n",
       "beyonce  [Repeat: x2] You were bad girl and your friend...\n",
       "beyonce  Oh, baby, how you doing? You know I'm-a cut ri...\n",
       "beyonce  Sometimes these walls seem to cave in on me Wh...\n",
       "beyonce  All the ladies, if you feel me, help me sing i...\n",
       "beyonce  Head down, as I watch my feet take turns hitti...\n",
       "beyonce  To be or not to be  Not! Hold up, bring the be...\n",
       "beyonce  Yeah, yeah, yeah, yeah, yeah Yeah, yeah, yeah,...\n",
       "beyonce  (Ladies on the floor) (All my ladies on the fl...\n",
       "beyonce  Yes It's so crazy right now Most incredibly, i...\n",
       "beyonce  At first we started out real cool Taking me pl..."
      ]
     },
     "execution_count": 2,
     "metadata": {},
     "output_type": "execute_result"
    }
   ],
   "source": [
    "beyonce = pd.read_csv('./data/dataframes/beyonce_lyrics.csv', index_col=0)\n",
    "beyonce.head(10)"
   ]
  },
  {
   "cell_type": "code",
   "execution_count": 3,
   "id": "front-korea",
   "metadata": {},
   "outputs": [
    {
     "data": {
      "text/html": [
       "<div>\n",
       "<style scoped>\n",
       "    .dataframe tbody tr th:only-of-type {\n",
       "        vertical-align: middle;\n",
       "    }\n",
       "\n",
       "    .dataframe tbody tr th {\n",
       "        vertical-align: top;\n",
       "    }\n",
       "\n",
       "    .dataframe thead th {\n",
       "        text-align: right;\n",
       "    }\n",
       "</style>\n",
       "<table border=\"1\" class=\"dataframe\">\n",
       "  <thead>\n",
       "    <tr style=\"text-align: right;\">\n",
       "      <th></th>\n",
       "      <th>lyrics</th>\n",
       "    </tr>\n",
       "    <tr>\n",
       "      <th>artist</th>\n",
       "      <th></th>\n",
       "    </tr>\n",
       "  </thead>\n",
       "  <tbody>\n",
       "    <tr>\n",
       "      <th>coldplay</th>\n",
       "      <td>Could you, could you come back Come back toget...</td>\n",
       "    </tr>\n",
       "    <tr>\n",
       "      <th>coldplay</th>\n",
       "      <td>Come up to meet you Tell you I'm sorry You don...</td>\n",
       "    </tr>\n",
       "    <tr>\n",
       "      <th>coldplay</th>\n",
       "      <td>To my surprise, and my delight I saw sunrise, ...</td>\n",
       "    </tr>\n",
       "    <tr>\n",
       "      <th>coldplay</th>\n",
       "      <td>In the darkness before the dawn In the swirlin...</td>\n",
       "    </tr>\n",
       "    <tr>\n",
       "      <th>coldplay</th>\n",
       "      <td>Well, they say people come The say people go T...</td>\n",
       "    </tr>\n",
       "    <tr>\n",
       "      <th>...</th>\n",
       "      <td>...</td>\n",
       "    </tr>\n",
       "    <tr>\n",
       "      <th>coldplay</th>\n",
       "      <td>My song is love Love to the lovers shone And i...</td>\n",
       "    </tr>\n",
       "    <tr>\n",
       "      <th>coldplay</th>\n",
       "      <td>And the hardest part Was letting go, not takin...</td>\n",
       "    </tr>\n",
       "    <tr>\n",
       "      <th>coldplay</th>\n",
       "      <td>Holy, holy, dove descend Soft and slowly When ...</td>\n",
       "    </tr>\n",
       "    <tr>\n",
       "      <th>coldplay</th>\n",
       "      <td>The lights go out and I can't be saved Tides t...</td>\n",
       "    </tr>\n",
       "    <tr>\n",
       "      <th>coldplay</th>\n",
       "      <td>Come on now, don't you want to see  This thing...</td>\n",
       "    </tr>\n",
       "  </tbody>\n",
       "</table>\n",
       "<p>1455 rows × 1 columns</p>\n",
       "</div>"
      ],
      "text/plain": [
       "                                                     lyrics\n",
       "artist                                                     \n",
       "coldplay  Could you, could you come back Come back toget...\n",
       "coldplay  Come up to meet you Tell you I'm sorry You don...\n",
       "coldplay  To my surprise, and my delight I saw sunrise, ...\n",
       "coldplay  In the darkness before the dawn In the swirlin...\n",
       "coldplay  Well, they say people come The say people go T...\n",
       "...                                                     ...\n",
       "coldplay  My song is love Love to the lovers shone And i...\n",
       "coldplay  And the hardest part Was letting go, not takin...\n",
       "coldplay  Holy, holy, dove descend Soft and slowly When ...\n",
       "coldplay  The lights go out and I can't be saved Tides t...\n",
       "coldplay  Come on now, don't you want to see  This thing...\n",
       "\n",
       "[1455 rows x 1 columns]"
      ]
     },
     "execution_count": 3,
     "metadata": {},
     "output_type": "execute_result"
    }
   ],
   "source": [
    "coldplay = pd.read_csv('./data/dataframes/coldplay_lyrics.csv', index_col=0)\n",
    "coldplay"
   ]
  },
  {
   "cell_type": "code",
   "execution_count": 4,
   "id": "accepted-contemporary",
   "metadata": {},
   "outputs": [
    {
     "data": {
      "text/plain": [
       "1173"
      ]
     },
     "execution_count": 4,
     "metadata": {},
     "output_type": "execute_result"
    }
   ],
   "source": [
    "beyonce.duplicated().sum()"
   ]
  },
  {
   "cell_type": "code",
   "execution_count": 5,
   "id": "swiss-vessel",
   "metadata": {},
   "outputs": [
    {
     "data": {
      "text/plain": [
       "1228"
      ]
     },
     "execution_count": 5,
     "metadata": {},
     "output_type": "execute_result"
    }
   ],
   "source": [
    "coldplay.duplicated().sum()"
   ]
  },
  {
   "cell_type": "code",
   "execution_count": 6,
   "id": "lonely-fifteen",
   "metadata": {},
   "outputs": [],
   "source": [
    "beyonce.drop_duplicates(inplace=True)\n",
    "coldplay.drop_duplicates(inplace=True)"
   ]
  },
  {
   "cell_type": "code",
   "execution_count": 7,
   "id": "administrative-princess",
   "metadata": {
    "scrolled": true
   },
   "outputs": [
    {
     "name": "stdout",
     "output_type": "stream",
     "text": [
      "(319, 1) (227, 1)\n"
     ]
    }
   ],
   "source": [
    "print(beyonce.shape, coldplay.shape)"
   ]
  },
  {
   "cell_type": "code",
   "execution_count": 8,
   "id": "weekly-joyce",
   "metadata": {},
   "outputs": [
    {
     "data": {
      "text/html": [
       "<div>\n",
       "<style scoped>\n",
       "    .dataframe tbody tr th:only-of-type {\n",
       "        vertical-align: middle;\n",
       "    }\n",
       "\n",
       "    .dataframe tbody tr th {\n",
       "        vertical-align: top;\n",
       "    }\n",
       "\n",
       "    .dataframe thead th {\n",
       "        text-align: right;\n",
       "    }\n",
       "</style>\n",
       "<table border=\"1\" class=\"dataframe\">\n",
       "  <thead>\n",
       "    <tr style=\"text-align: right;\">\n",
       "      <th></th>\n",
       "      <th>lyrics</th>\n",
       "    </tr>\n",
       "    <tr>\n",
       "      <th>artist</th>\n",
       "      <th></th>\n",
       "    </tr>\n",
       "  </thead>\n",
       "  <tbody>\n",
       "    <tr>\n",
       "      <th>beyonce</th>\n",
       "      <td>[Repeat: x2] You were bad girl and your friend...</td>\n",
       "    </tr>\n",
       "    <tr>\n",
       "      <th>beyonce</th>\n",
       "      <td>Oh, baby, how you doing? You know I'm-a cut ri...</td>\n",
       "    </tr>\n",
       "    <tr>\n",
       "      <th>beyonce</th>\n",
       "      <td>Sometimes these walls seem to cave in on me Wh...</td>\n",
       "    </tr>\n",
       "    <tr>\n",
       "      <th>beyonce</th>\n",
       "      <td>All the ladies, if you feel me, help me sing i...</td>\n",
       "    </tr>\n",
       "    <tr>\n",
       "      <th>beyonce</th>\n",
       "      <td>Head down, as I watch my feet take turns hitti...</td>\n",
       "    </tr>\n",
       "    <tr>\n",
       "      <th>...</th>\n",
       "      <td>...</td>\n",
       "    </tr>\n",
       "    <tr>\n",
       "      <th>coldplay</th>\n",
       "      <td>Look at earth from outer space Everyone must f...</td>\n",
       "    </tr>\n",
       "    <tr>\n",
       "      <th>coldplay</th>\n",
       "      <td>She floats like a swan Grace on the water Lips...</td>\n",
       "    </tr>\n",
       "    <tr>\n",
       "      <th>coldplay</th>\n",
       "      <td>Those who are dead are not dead  They're just ...</td>\n",
       "    </tr>\n",
       "    <tr>\n",
       "      <th>coldplay</th>\n",
       "      <td>Love, I hope we get on  I hope we can find a w...</td>\n",
       "    </tr>\n",
       "    <tr>\n",
       "      <th>coldplay</th>\n",
       "      <td>Come on now, don't you want to see  This thing...</td>\n",
       "    </tr>\n",
       "  </tbody>\n",
       "</table>\n",
       "<p>546 rows × 1 columns</p>\n",
       "</div>"
      ],
      "text/plain": [
       "                                                     lyrics\n",
       "artist                                                     \n",
       "beyonce   [Repeat: x2] You were bad girl and your friend...\n",
       "beyonce   Oh, baby, how you doing? You know I'm-a cut ri...\n",
       "beyonce   Sometimes these walls seem to cave in on me Wh...\n",
       "beyonce   All the ladies, if you feel me, help me sing i...\n",
       "beyonce   Head down, as I watch my feet take turns hitti...\n",
       "...                                                     ...\n",
       "coldplay  Look at earth from outer space Everyone must f...\n",
       "coldplay  She floats like a swan Grace on the water Lips...\n",
       "coldplay  Those who are dead are not dead  They're just ...\n",
       "coldplay  Love, I hope we get on  I hope we can find a w...\n",
       "coldplay  Come on now, don't you want to see  This thing...\n",
       "\n",
       "[546 rows x 1 columns]"
      ]
     },
     "execution_count": 8,
     "metadata": {},
     "output_type": "execute_result"
    }
   ],
   "source": [
    "frames = [beyonce, coldplay]\n",
    "  \n",
    "lyrics = pd.concat(frames)\n",
    "lyrics"
   ]
  },
  {
   "cell_type": "code",
   "execution_count": 9,
   "id": "prescription-bargain",
   "metadata": {},
   "outputs": [
    {
     "data": {
      "text/plain": [
       "Index(['beyonce', 'beyonce', 'beyonce', 'beyonce', 'beyonce', 'beyonce',\n",
       "       'beyonce', 'beyonce', 'beyonce', 'beyonce',\n",
       "       ...\n",
       "       'coldplay', 'coldplay', 'coldplay', 'coldplay', 'coldplay', 'coldplay',\n",
       "       'coldplay', 'coldplay', 'coldplay', 'coldplay'],\n",
       "      dtype='object', name='artist', length=546)"
      ]
     },
     "execution_count": 9,
     "metadata": {},
     "output_type": "execute_result"
    }
   ],
   "source": [
    "y=lyrics.index\n",
    "y"
   ]
  },
  {
   "cell_type": "code",
   "execution_count": 10,
   "id": "finite-declaration",
   "metadata": {},
   "outputs": [
    {
     "data": {
      "text/plain": [
       "0      [Repeat: x2] You were bad girl and your friend...\n",
       "1      Oh, baby, how you doing? You know I'm-a cut ri...\n",
       "2      Sometimes these walls seem to cave in on me Wh...\n",
       "3      All the ladies, if you feel me, help me sing i...\n",
       "4      Head down, as I watch my feet take turns hitti...\n",
       "                             ...                        \n",
       "541    Look at earth from outer space Everyone must f...\n",
       "542    She floats like a swan Grace on the water Lips...\n",
       "543    Those who are dead are not dead  They're just ...\n",
       "544    Love, I hope we get on  I hope we can find a w...\n",
       "545    Come on now, don't you want to see  This thing...\n",
       "Name: lyrics, Length: 546, dtype: object"
      ]
     },
     "execution_count": 10,
     "metadata": {},
     "output_type": "execute_result"
    }
   ],
   "source": [
    "X=lyrics.reset_index()['lyrics']\n",
    "X"
   ]
  },
  {
   "cell_type": "markdown",
   "id": "native-smooth",
   "metadata": {},
   "source": [
    "## Bag of words"
   ]
  },
  {
   "cell_type": "code",
   "execution_count": 11,
   "id": "front-premiere",
   "metadata": {},
   "outputs": [],
   "source": [
    "preprocessing = CountVectorizer()"
   ]
  },
  {
   "cell_type": "code",
   "execution_count": 12,
   "id": "ongoing-baltimore",
   "metadata": {},
   "outputs": [],
   "source": [
    "lyrics_vec = preprocessing.fit_transform(X)#.todense() # todense used to show the matrix, not needed for ML workflow"
   ]
  },
  {
   "cell_type": "markdown",
   "id": "breeding-entrepreneur",
   "metadata": {},
   "source": [
    "### The Tf-Idf Transformer:\n",
    "\n",
    "\"Transform a count matrix to a normalized tf-idf representation\"\n",
    "\n",
    " => scale down the impact of tokens that occur very frequently in a given corpus and that are hence empirically less informative than features that occur in a small fraction of the training corpus.\n",
    "\n",
    "* TF - Term Frequency (% count of a word w in doc d)\n",
    "* IDF - Inverse Document Frequency\n",
    "\n",
    "$TFIDF = TF(w,d) * IDF(w)$\n",
    "\n",
    "$IDF(w) = log(\\frac{1+ no.documents}{1 + no.documents containing word w})+1$\n",
    "\n",
    "##### The steps for calculating TFIDF are:\n",
    "* For each vector:\n",
    "    * Calculate the term frequency for each term in the vector\n",
    "    * Calculate the inverse doc frequency for each term in the vector\n",
    "    * Multiply the two for each term in the vector\n",
    "* Then normalise each vector by the Euclidean norm (numpy.linalg.norm)\n",
    "    * $norm = \\frac{v}{||v||^2}$"
   ]
  },
  {
   "cell_type": "code",
   "execution_count": 13,
   "id": "facial-start",
   "metadata": {},
   "outputs": [],
   "source": [
    "preprocessing_tfidf = TfidfVectorizer(max_df=0.5, ngram_range=(1,2), stop_words='english')"
   ]
  },
  {
   "cell_type": "code",
   "execution_count": 14,
   "id": "dedicated-turtle",
   "metadata": {},
   "outputs": [],
   "source": [
    "lyrics_tfidf = preprocessing_tfidf.fit_transform(X)"
   ]
  },
  {
   "cell_type": "code",
   "execution_count": 15,
   "id": "vanilla-mechanism",
   "metadata": {},
   "outputs": [
    {
     "data": {
      "text/plain": [
       "(546, 37891)"
      ]
     },
     "execution_count": 15,
     "metadata": {},
     "output_type": "execute_result"
    }
   ],
   "source": [
    "df_tfidf = pd.DataFrame(lyrics_tfidf.todense(), index=y, columns=preprocessing_tfidf.get_feature_names())\n",
    "df_tfidf.shape #7169 different words"
   ]
  },
  {
   "cell_type": "markdown",
   "id": "fluid-musician",
   "metadata": {},
   "source": [
    "## Pipeline"
   ]
  },
  {
   "cell_type": "code",
   "execution_count": 16,
   "id": "imposed-dover",
   "metadata": {},
   "outputs": [],
   "source": [
    "model = make_pipeline(\n",
    "                    preprocessing_tfidf, #TfidfVectorizer\n",
    "                    LogisticRegression()\n",
    ")"
   ]
  },
  {
   "cell_type": "code",
   "execution_count": 17,
   "id": "incorporated-partner",
   "metadata": {},
   "outputs": [
    {
     "data": {
      "text/plain": [
       "{'memory': None,\n",
       " 'steps': [('tfidfvectorizer',\n",
       "   TfidfVectorizer(max_df=0.5, ngram_range=(1, 2), stop_words='english')),\n",
       "  ('logisticregression', LogisticRegression())],\n",
       " 'verbose': False,\n",
       " 'tfidfvectorizer': TfidfVectorizer(max_df=0.5, ngram_range=(1, 2), stop_words='english'),\n",
       " 'logisticregression': LogisticRegression(),\n",
       " 'tfidfvectorizer__analyzer': 'word',\n",
       " 'tfidfvectorizer__binary': False,\n",
       " 'tfidfvectorizer__decode_error': 'strict',\n",
       " 'tfidfvectorizer__dtype': numpy.float64,\n",
       " 'tfidfvectorizer__encoding': 'utf-8',\n",
       " 'tfidfvectorizer__input': 'content',\n",
       " 'tfidfvectorizer__lowercase': True,\n",
       " 'tfidfvectorizer__max_df': 0.5,\n",
       " 'tfidfvectorizer__max_features': None,\n",
       " 'tfidfvectorizer__min_df': 1,\n",
       " 'tfidfvectorizer__ngram_range': (1, 2),\n",
       " 'tfidfvectorizer__norm': 'l2',\n",
       " 'tfidfvectorizer__preprocessor': None,\n",
       " 'tfidfvectorizer__smooth_idf': True,\n",
       " 'tfidfvectorizer__stop_words': 'english',\n",
       " 'tfidfvectorizer__strip_accents': None,\n",
       " 'tfidfvectorizer__sublinear_tf': False,\n",
       " 'tfidfvectorizer__token_pattern': '(?u)\\\\b\\\\w\\\\w+\\\\b',\n",
       " 'tfidfvectorizer__tokenizer': None,\n",
       " 'tfidfvectorizer__use_idf': True,\n",
       " 'tfidfvectorizer__vocabulary': None,\n",
       " 'logisticregression__C': 1.0,\n",
       " 'logisticregression__class_weight': None,\n",
       " 'logisticregression__dual': False,\n",
       " 'logisticregression__fit_intercept': True,\n",
       " 'logisticregression__intercept_scaling': 1,\n",
       " 'logisticregression__l1_ratio': None,\n",
       " 'logisticregression__max_iter': 100,\n",
       " 'logisticregression__multi_class': 'auto',\n",
       " 'logisticregression__n_jobs': None,\n",
       " 'logisticregression__penalty': 'l2',\n",
       " 'logisticregression__random_state': None,\n",
       " 'logisticregression__solver': 'lbfgs',\n",
       " 'logisticregression__tol': 0.0001,\n",
       " 'logisticregression__verbose': 0,\n",
       " 'logisticregression__warm_start': False}"
      ]
     },
     "execution_count": 17,
     "metadata": {},
     "output_type": "execute_result"
    }
   ],
   "source": [
    "model.get_params()"
   ]
  },
  {
   "cell_type": "markdown",
   "id": "dependent-palace",
   "metadata": {},
   "source": [
    "## Train Test splite "
   ]
  },
  {
   "cell_type": "code",
   "execution_count": 22,
   "id": "sixth-basement",
   "metadata": {},
   "outputs": [],
   "source": [
    "X_train, X_test, y_train, y_test = train_test_split(X, y)"
   ]
  },
  {
   "cell_type": "markdown",
   "id": "broad-overhead",
   "metadata": {},
   "source": [
    "## Hyperparameter GridSearch"
   ]
  },
  {
   "cell_type": "code",
   "execution_count": 19,
   "id": "proved-crack",
   "metadata": {},
   "outputs": [],
   "source": [
    "## WARNING: Too much hyperparameters!!! \n",
    "param_grid = {\n",
    "    'tfidfvectorizer__ngram_range': [(1,1), (1,2)],\n",
    "    'tfidfvectorizer__max_df': [0.25, 0.5, 0.75, 1.0],\n",
    "    'tfidfvectorizer__stop_words': [None, 'english'],\n",
    "    'tfidfvectorizer__min_df': [2,3,4,5],\n",
    "    'logisticregression__C': [0.001, 0.01, 0.1, 1.0, 10, 100],\n",
    "    'logisticregression__max_iter': [100,250,500,1000],\n",
    "    'logisticregression__class_weight': [None, 'balanced'],\n",
    "    #'randomforestclassifier__max_depth': [None, ''],\n",
    "    #'randomforestclassifier__n_estimators': [50, 100, 150]\n",
    "}"
   ]
  },
  {
   "cell_type": "code",
   "execution_count": 20,
   "id": "vietnamese-profession",
   "metadata": {},
   "outputs": [],
   "source": [
    "grid_cv = GridSearchCV(\n",
    "            estimator=model,\n",
    "            param_grid= param_grid,\n",
    "            cv=5,\n",
    "            return_train_score=True,\n",
    "            scoring= 'accuracy',\n",
    "            n_jobs=-1\n",
    ")"
   ]
  },
  {
   "cell_type": "code",
   "execution_count": 23,
   "id": "prescribed-party",
   "metadata": {},
   "outputs": [
    {
     "name": "stderr",
     "output_type": "stream",
     "text": [
      "/Users/emre/opt/anaconda3/lib/python3.8/site-packages/joblib/externals/loky/process_executor.py:688: UserWarning: A worker stopped while some jobs were given to the executor. This can be caused by a too short worker timeout or by a memory leak.\n",
      "  warnings.warn(\n"
     ]
    },
    {
     "data": {
      "text/plain": [
       "GridSearchCV(cv=5,\n",
       "             estimator=Pipeline(steps=[('tfidfvectorizer',\n",
       "                                        TfidfVectorizer(max_df=0.5,\n",
       "                                                        ngram_range=(1, 2),\n",
       "                                                        stop_words='english')),\n",
       "                                       ('logisticregression',\n",
       "                                        LogisticRegression())]),\n",
       "             n_jobs=-1,\n",
       "             param_grid={'logisticregression__C': [0.001, 0.01, 0.1, 1.0, 10,\n",
       "                                                   100],\n",
       "                         'logisticregression__class_weight': [None, 'balanced'],\n",
       "                         'logisticregression__max_iter': [100, 250, 500, 1000],\n",
       "                         'tfidfvectorizer__max_df': [0.25, 0.5, 0.75, 1.0],\n",
       "                         'tfidfvectorizer__min_df': [2, 3, 4, 5],\n",
       "                         'tfidfvectorizer__ngram_range': [(1, 1), (1, 2),\n",
       "                                                          (1, 3)],\n",
       "                         'tfidfvectorizer__stop_words': [None, 'english']},\n",
       "             return_train_score=True, scoring='accuracy')"
      ]
     },
     "execution_count": 23,
     "metadata": {},
     "output_type": "execute_result"
    }
   ],
   "source": [
    "grid_cv.fit(X_train, y_train)"
   ]
  },
  {
   "cell_type": "code",
   "execution_count": 24,
   "id": "discrete-investing",
   "metadata": {},
   "outputs": [
    {
     "data": {
      "text/plain": [
       "dict_keys(['mean_fit_time', 'std_fit_time', 'mean_score_time', 'std_score_time', 'param_logisticregression__C', 'param_logisticregression__class_weight', 'param_logisticregression__max_iter', 'param_tfidfvectorizer__max_df', 'param_tfidfvectorizer__min_df', 'param_tfidfvectorizer__ngram_range', 'param_tfidfvectorizer__stop_words', 'params', 'split0_test_score', 'split1_test_score', 'split2_test_score', 'split3_test_score', 'split4_test_score', 'mean_test_score', 'std_test_score', 'rank_test_score', 'split0_train_score', 'split1_train_score', 'split2_train_score', 'split3_train_score', 'split4_train_score', 'mean_train_score', 'std_train_score'])"
      ]
     },
     "execution_count": 24,
     "metadata": {},
     "output_type": "execute_result"
    }
   ],
   "source": [
    "grid_cv.cv_results_.keys()"
   ]
  },
  {
   "cell_type": "code",
   "execution_count": 25,
   "id": "homeless-publisher",
   "metadata": {},
   "outputs": [],
   "source": [
    "col=['param_tfidfvectorizer__ngram_range',\n",
    "     'param_tfidfvectorizer__max_df',\n",
    "     'param_tfidfvectorizer__min_df',\n",
    "     'param_tfidfvectorizer__stop_words',\n",
    "     'param_logisticregression__class_weight',\n",
    "     'param_logisticregression__C',\n",
    "     #'param_randomforestclassifier__n_estimators',\n",
    "     'mean_train_score', \n",
    "     'mean_test_score', \n",
    "     'rank_test_score' \n",
    "    ]"
   ]
  },
  {
   "cell_type": "code",
   "execution_count": 26,
   "id": "cosmetic-former",
   "metadata": {},
   "outputs": [],
   "source": [
    "cv_results=pd.DataFrame(grid_cv.cv_results_)"
   ]
  },
  {
   "cell_type": "code",
   "execution_count": 27,
   "id": "antique-drove",
   "metadata": {
    "scrolled": true
   },
   "outputs": [
    {
     "data": {
      "text/html": [
       "<div>\n",
       "<style scoped>\n",
       "    .dataframe tbody tr th:only-of-type {\n",
       "        vertical-align: middle;\n",
       "    }\n",
       "\n",
       "    .dataframe tbody tr th {\n",
       "        vertical-align: top;\n",
       "    }\n",
       "\n",
       "    .dataframe thead th {\n",
       "        text-align: right;\n",
       "    }\n",
       "</style>\n",
       "<table border=\"1\" class=\"dataframe\">\n",
       "  <thead>\n",
       "    <tr style=\"text-align: right;\">\n",
       "      <th></th>\n",
       "      <th>param_tfidfvectorizer__ngram_range</th>\n",
       "      <th>param_tfidfvectorizer__max_df</th>\n",
       "      <th>param_tfidfvectorizer__min_df</th>\n",
       "      <th>param_tfidfvectorizer__stop_words</th>\n",
       "      <th>param_logisticregression__class_weight</th>\n",
       "      <th>param_logisticregression__C</th>\n",
       "      <th>mean_train_score</th>\n",
       "      <th>mean_test_score</th>\n",
       "      <th>rank_test_score</th>\n",
       "    </tr>\n",
       "  </thead>\n",
       "  <tbody>\n",
       "    <tr>\n",
       "      <th>3474</th>\n",
       "      <td>(1, 1)</td>\n",
       "      <td>0.25</td>\n",
       "      <td>5</td>\n",
       "      <td>None</td>\n",
       "      <td>balanced</td>\n",
       "      <td>10</td>\n",
       "      <td>0.997555</td>\n",
       "      <td>0.897260</td>\n",
       "      <td>1</td>\n",
       "    </tr>\n",
       "    <tr>\n",
       "      <th>3570</th>\n",
       "      <td>(1, 1)</td>\n",
       "      <td>0.25</td>\n",
       "      <td>5</td>\n",
       "      <td>None</td>\n",
       "      <td>balanced</td>\n",
       "      <td>10</td>\n",
       "      <td>0.997555</td>\n",
       "      <td>0.897260</td>\n",
       "      <td>1</td>\n",
       "    </tr>\n",
       "    <tr>\n",
       "      <th>3666</th>\n",
       "      <td>(1, 1)</td>\n",
       "      <td>0.25</td>\n",
       "      <td>5</td>\n",
       "      <td>None</td>\n",
       "      <td>balanced</td>\n",
       "      <td>10</td>\n",
       "      <td>0.997555</td>\n",
       "      <td>0.897260</td>\n",
       "      <td>1</td>\n",
       "    </tr>\n",
       "    <tr>\n",
       "      <th>3762</th>\n",
       "      <td>(1, 1)</td>\n",
       "      <td>0.25</td>\n",
       "      <td>5</td>\n",
       "      <td>None</td>\n",
       "      <td>balanced</td>\n",
       "      <td>10</td>\n",
       "      <td>0.997555</td>\n",
       "      <td>0.897260</td>\n",
       "      <td>1</td>\n",
       "    </tr>\n",
       "    <tr>\n",
       "      <th>3468</th>\n",
       "      <td>(1, 1)</td>\n",
       "      <td>0.25</td>\n",
       "      <td>4</td>\n",
       "      <td>None</td>\n",
       "      <td>balanced</td>\n",
       "      <td>10</td>\n",
       "      <td>0.997555</td>\n",
       "      <td>0.892412</td>\n",
       "      <td>5</td>\n",
       "    </tr>\n",
       "    <tr>\n",
       "      <th>...</th>\n",
       "      <td>...</td>\n",
       "      <td>...</td>\n",
       "      <td>...</td>\n",
       "      <td>...</td>\n",
       "      <td>...</td>\n",
       "      <td>...</td>\n",
       "      <td>...</td>\n",
       "      <td>...</td>\n",
       "      <td>...</td>\n",
       "    </tr>\n",
       "    <tr>\n",
       "      <th>1089</th>\n",
       "      <td>(1, 2)</td>\n",
       "      <td>0.5</td>\n",
       "      <td>3</td>\n",
       "      <td>english</td>\n",
       "      <td>None</td>\n",
       "      <td>0.01</td>\n",
       "      <td>0.586798</td>\n",
       "      <td>0.586811</td>\n",
       "      <td>3517</td>\n",
       "    </tr>\n",
       "    <tr>\n",
       "      <th>1090</th>\n",
       "      <td>(1, 3)</td>\n",
       "      <td>0.5</td>\n",
       "      <td>3</td>\n",
       "      <td>None</td>\n",
       "      <td>None</td>\n",
       "      <td>0.01</td>\n",
       "      <td>0.586798</td>\n",
       "      <td>0.586811</td>\n",
       "      <td>3517</td>\n",
       "    </tr>\n",
       "    <tr>\n",
       "      <th>1091</th>\n",
       "      <td>(1, 3)</td>\n",
       "      <td>0.5</td>\n",
       "      <td>3</td>\n",
       "      <td>english</td>\n",
       "      <td>None</td>\n",
       "      <td>0.01</td>\n",
       "      <td>0.586798</td>\n",
       "      <td>0.586811</td>\n",
       "      <td>3517</td>\n",
       "    </tr>\n",
       "    <tr>\n",
       "      <th>1074</th>\n",
       "      <td>(1, 1)</td>\n",
       "      <td>0.25</td>\n",
       "      <td>5</td>\n",
       "      <td>None</td>\n",
       "      <td>None</td>\n",
       "      <td>0.01</td>\n",
       "      <td>0.586798</td>\n",
       "      <td>0.586811</td>\n",
       "      <td>3517</td>\n",
       "    </tr>\n",
       "    <tr>\n",
       "      <th>0</th>\n",
       "      <td>(1, 1)</td>\n",
       "      <td>0.25</td>\n",
       "      <td>2</td>\n",
       "      <td>None</td>\n",
       "      <td>None</td>\n",
       "      <td>0.001</td>\n",
       "      <td>0.586798</td>\n",
       "      <td>0.586811</td>\n",
       "      <td>3517</td>\n",
       "    </tr>\n",
       "  </tbody>\n",
       "</table>\n",
       "<p>4608 rows × 9 columns</p>\n",
       "</div>"
      ],
      "text/plain": [
       "     param_tfidfvectorizer__ngram_range param_tfidfvectorizer__max_df  \\\n",
       "3474                             (1, 1)                          0.25   \n",
       "3570                             (1, 1)                          0.25   \n",
       "3666                             (1, 1)                          0.25   \n",
       "3762                             (1, 1)                          0.25   \n",
       "3468                             (1, 1)                          0.25   \n",
       "...                                 ...                           ...   \n",
       "1089                             (1, 2)                           0.5   \n",
       "1090                             (1, 3)                           0.5   \n",
       "1091                             (1, 3)                           0.5   \n",
       "1074                             (1, 1)                          0.25   \n",
       "0                                (1, 1)                          0.25   \n",
       "\n",
       "     param_tfidfvectorizer__min_df param_tfidfvectorizer__stop_words  \\\n",
       "3474                             5                              None   \n",
       "3570                             5                              None   \n",
       "3666                             5                              None   \n",
       "3762                             5                              None   \n",
       "3468                             4                              None   \n",
       "...                            ...                               ...   \n",
       "1089                             3                           english   \n",
       "1090                             3                              None   \n",
       "1091                             3                           english   \n",
       "1074                             5                              None   \n",
       "0                                2                              None   \n",
       "\n",
       "     param_logisticregression__class_weight param_logisticregression__C  \\\n",
       "3474                               balanced                          10   \n",
       "3570                               balanced                          10   \n",
       "3666                               balanced                          10   \n",
       "3762                               balanced                          10   \n",
       "3468                               balanced                          10   \n",
       "...                                     ...                         ...   \n",
       "1089                                   None                        0.01   \n",
       "1090                                   None                        0.01   \n",
       "1091                                   None                        0.01   \n",
       "1074                                   None                        0.01   \n",
       "0                                      None                       0.001   \n",
       "\n",
       "      mean_train_score  mean_test_score  rank_test_score  \n",
       "3474          0.997555         0.897260                1  \n",
       "3570          0.997555         0.897260                1  \n",
       "3666          0.997555         0.897260                1  \n",
       "3762          0.997555         0.897260                1  \n",
       "3468          0.997555         0.892412                5  \n",
       "...                ...              ...              ...  \n",
       "1089          0.586798         0.586811             3517  \n",
       "1090          0.586798         0.586811             3517  \n",
       "1091          0.586798         0.586811             3517  \n",
       "1074          0.586798         0.586811             3517  \n",
       "0             0.586798         0.586811             3517  \n",
       "\n",
       "[4608 rows x 9 columns]"
      ]
     },
     "execution_count": 27,
     "metadata": {},
     "output_type": "execute_result"
    }
   ],
   "source": [
    "cv_results[col].sort_values(by='rank_test_score', ascending=True )"
   ]
  },
  {
   "cell_type": "code",
   "execution_count": 34,
   "id": "incorrect-nevada",
   "metadata": {},
   "outputs": [
    {
     "data": {
      "text/plain": [
       "<AxesSubplot:xlabel='param_logisticregression__C'>"
      ]
     },
     "execution_count": 34,
     "metadata": {},
     "output_type": "execute_result"
    },
    {
     "data": {
      "image/png": "[encoded data removed]",
      "text/plain": [
       "<Figure size 432x288 with 1 Axes>"
      ]
     },
     "metadata": {
      "needs_background": "light"
     },
     "output_type": "display_data"
    }
   ],
   "source": [
    "# plot the train and test score\n",
    "cv_results[col].plot(x='param_logisticregression__C', logx=True)"
   ]
  },
  {
   "cell_type": "code",
   "execution_count": 28,
   "id": "wooden-suspension",
   "metadata": {},
   "outputs": [
    {
     "data": {
      "text/plain": [
       "{'logisticregression__C': 10,\n",
       " 'logisticregression__class_weight': 'balanced',\n",
       " 'logisticregression__max_iter': 100,\n",
       " 'tfidfvectorizer__max_df': 0.25,\n",
       " 'tfidfvectorizer__min_df': 5,\n",
       " 'tfidfvectorizer__ngram_range': (1, 1),\n",
       " 'tfidfvectorizer__stop_words': None}"
      ]
     },
     "execution_count": 28,
     "metadata": {},
     "output_type": "execute_result"
    }
   ],
   "source": [
    "grid_cv.best_params_\n"
   ]
  },
  {
   "cell_type": "code",
   "execution_count": 35,
   "id": "tender-employment",
   "metadata": {},
   "outputs": [],
   "source": [
    "best_model = grid_cv.best_estimator_"
   ]
  },
  {
   "cell_type": "code",
   "execution_count": 49,
   "id": "distinguished-dayton",
   "metadata": {},
   "outputs": [],
   "source": [
    "import pickle\n",
    "\n",
    "with open('model.pickle', 'wb') as file:\n",
    "    pickle.dump(best_model, file)"
   ]
  },
  {
   "cell_type": "markdown",
   "id": "simple-preference",
   "metadata": {},
   "source": [
    "## Prediction on Test Data"
   ]
  },
  {
   "cell_type": "code",
   "execution_count": 36,
   "id": "polished-medicine",
   "metadata": {},
   "outputs": [
    {
     "data": {
      "text/plain": [
       "<sklearn.metrics._plot.confusion_matrix.ConfusionMatrixDisplay at 0x7fc0400a8c40>"
      ]
     },
     "execution_count": 36,
     "metadata": {},
     "output_type": "execute_result"
    },
    {
     "data": {
      "image/png": "[encoded data removed]",
      "text/plain": [
       "<Figure size 432x288 with 2 Axes>"
      ]
     },
     "metadata": {
      "needs_background": "light"
     },
     "output_type": "display_data"
    }
   ],
   "source": [
    "metrics.plot_confusion_matrix(best_model,\n",
    "                              X_test,\n",
    "                              y_test,\n",
    "                              normalize='true')"
   ]
  },
  {
   "cell_type": "code",
   "execution_count": 37,
   "id": "verified-power",
   "metadata": {},
   "outputs": [
    {
     "data": {
      "text/plain": [
       "0.8759124087591241"
      ]
     },
     "execution_count": 37,
     "metadata": {},
     "output_type": "execute_result"
    }
   ],
   "source": [
    "y_pred = best_model.predict(X_test)\n",
    "metrics.accuracy_score(y_pred, y_test)"
   ]
  },
  {
   "cell_type": "code",
   "execution_count": 38,
   "id": "binding-driver",
   "metadata": {},
   "outputs": [],
   "source": [
    "# get a list of all feature weights\n",
    "coefs = best_model[1].coef_"
   ]
  },
  {
   "cell_type": "code",
   "execution_count": 39,
   "id": "paperback-cradle",
   "metadata": {},
   "outputs": [],
   "source": [
    "# get a list of all words used in the vectorizer\n",
    "words = best_model[0].get_feature_names()"
   ]
  },
  {
   "cell_type": "code",
   "execution_count": 40,
   "id": "liked-protocol",
   "metadata": {},
   "outputs": [],
   "source": [
    "# get a list of all words used in the vectorizer\n",
    "words = best_model[0].get_feature_names()"
   ]
  },
  {
   "cell_type": "code",
   "execution_count": 42,
   "id": "improving-louis",
   "metadata": {},
   "outputs": [],
   "source": [
    "# construct a DataFrame\n",
    "importance = pd.DataFrame({\n",
    "    'weight': coefs[0],\n",
    "    'feature': words\n",
    "})"
   ]
  },
  {
   "cell_type": "code",
   "execution_count": 44,
   "id": "composite-jefferson",
   "metadata": {},
   "outputs": [
    {
     "data": {
      "text/html": [
       "<div>\n",
       "<style scoped>\n",
       "    .dataframe tbody tr th:only-of-type {\n",
       "        vertical-align: middle;\n",
       "    }\n",
       "\n",
       "    .dataframe tbody tr th {\n",
       "        vertical-align: top;\n",
       "    }\n",
       "\n",
       "    .dataframe thead th {\n",
       "        text-align: right;\n",
       "    }\n",
       "</style>\n",
       "<table border=\"1\" class=\"dataframe\">\n",
       "  <thead>\n",
       "    <tr style=\"text-align: right;\">\n",
       "      <th></th>\n",
       "      <th>weight</th>\n",
       "      <th>feature</th>\n",
       "    </tr>\n",
       "  </thead>\n",
       "  <tbody>\n",
       "    <tr>\n",
       "      <th>973</th>\n",
       "      <td>1.831814</td>\n",
       "      <td>tear</td>\n",
       "    </tr>\n",
       "    <tr>\n",
       "      <th>368</th>\n",
       "      <td>1.836780</td>\n",
       "      <td>future</td>\n",
       "    </tr>\n",
       "    <tr>\n",
       "      <th>886</th>\n",
       "      <td>1.877298</td>\n",
       "      <td>some</td>\n",
       "    </tr>\n",
       "    <tr>\n",
       "      <th>748</th>\n",
       "      <td>1.893631</td>\n",
       "      <td>rain</td>\n",
       "    </tr>\n",
       "    <tr>\n",
       "      <th>671</th>\n",
       "      <td>1.917973</td>\n",
       "      <td>ooh</td>\n",
       "    </tr>\n",
       "    <tr>\n",
       "      <th>943</th>\n",
       "      <td>1.950352</td>\n",
       "      <td>such</td>\n",
       "    </tr>\n",
       "    <tr>\n",
       "      <th>293</th>\n",
       "      <td>1.973010</td>\n",
       "      <td>eyes</td>\n",
       "    </tr>\n",
       "    <tr>\n",
       "      <th>217</th>\n",
       "      <td>1.982395</td>\n",
       "      <td>dark</td>\n",
       "    </tr>\n",
       "    <tr>\n",
       "      <th>1062</th>\n",
       "      <td>2.034036</td>\n",
       "      <td>waiting</td>\n",
       "    </tr>\n",
       "    <tr>\n",
       "      <th>96</th>\n",
       "      <td>2.055859</td>\n",
       "      <td>bones</td>\n",
       "    </tr>\n",
       "    <tr>\n",
       "      <th>873</th>\n",
       "      <td>2.070684</td>\n",
       "      <td>sky</td>\n",
       "    </tr>\n",
       "    <tr>\n",
       "      <th>248</th>\n",
       "      <td>2.097034</td>\n",
       "      <td>doesn</td>\n",
       "    </tr>\n",
       "    <tr>\n",
       "      <th>483</th>\n",
       "      <td>2.101372</td>\n",
       "      <td>its</td>\n",
       "    </tr>\n",
       "    <tr>\n",
       "      <th>8</th>\n",
       "      <td>2.104679</td>\n",
       "      <td>again</td>\n",
       "    </tr>\n",
       "    <tr>\n",
       "      <th>1127</th>\n",
       "      <td>2.106112</td>\n",
       "      <td>world</td>\n",
       "    </tr>\n",
       "    <tr>\n",
       "      <th>891</th>\n",
       "      <td>2.131190</td>\n",
       "      <td>sometimes</td>\n",
       "    </tr>\n",
       "    <tr>\n",
       "      <th>34</th>\n",
       "      <td>2.177832</td>\n",
       "      <td>arms</td>\n",
       "    </tr>\n",
       "    <tr>\n",
       "      <th>826</th>\n",
       "      <td>2.241112</td>\n",
       "      <td>sexy</td>\n",
       "    </tr>\n",
       "    <tr>\n",
       "      <th>687</th>\n",
       "      <td>2.248935</td>\n",
       "      <td>paradise</td>\n",
       "    </tr>\n",
       "    <tr>\n",
       "      <th>1121</th>\n",
       "      <td>2.343125</td>\n",
       "      <td>woo</td>\n",
       "    </tr>\n",
       "    <tr>\n",
       "      <th>224</th>\n",
       "      <td>2.385163</td>\n",
       "      <td>dead</td>\n",
       "    </tr>\n",
       "    <tr>\n",
       "      <th>37</th>\n",
       "      <td>2.435344</td>\n",
       "      <td>as</td>\n",
       "    </tr>\n",
       "    <tr>\n",
       "      <th>431</th>\n",
       "      <td>2.548785</td>\n",
       "      <td>head</td>\n",
       "    </tr>\n",
       "    <tr>\n",
       "      <th>394</th>\n",
       "      <td>2.650652</td>\n",
       "      <td>gonna</td>\n",
       "    </tr>\n",
       "    <tr>\n",
       "      <th>1137</th>\n",
       "      <td>2.772622</td>\n",
       "      <td>wrong</td>\n",
       "    </tr>\n",
       "    <tr>\n",
       "      <th>1052</th>\n",
       "      <td>2.809879</td>\n",
       "      <td>upon</td>\n",
       "    </tr>\n",
       "    <tr>\n",
       "      <th>562</th>\n",
       "      <td>2.818145</td>\n",
       "      <td>lost</td>\n",
       "    </tr>\n",
       "    <tr>\n",
       "      <th>890</th>\n",
       "      <td>2.827065</td>\n",
       "      <td>something</td>\n",
       "    </tr>\n",
       "    <tr>\n",
       "      <th>1129</th>\n",
       "      <td>2.836724</td>\n",
       "      <td>worry</td>\n",
       "    </tr>\n",
       "    <tr>\n",
       "      <th>393</th>\n",
       "      <td>3.551756</td>\n",
       "      <td>gone</td>\n",
       "    </tr>\n",
       "  </tbody>\n",
       "</table>\n",
       "</div>"
      ],
      "text/plain": [
       "        weight    feature\n",
       "973   1.831814       tear\n",
       "368   1.836780     future\n",
       "886   1.877298       some\n",
       "748   1.893631       rain\n",
       "671   1.917973        ooh\n",
       "943   1.950352       such\n",
       "293   1.973010       eyes\n",
       "217   1.982395       dark\n",
       "1062  2.034036    waiting\n",
       "96    2.055859      bones\n",
       "873   2.070684        sky\n",
       "248   2.097034      doesn\n",
       "483   2.101372        its\n",
       "8     2.104679      again\n",
       "1127  2.106112      world\n",
       "891   2.131190  sometimes\n",
       "34    2.177832       arms\n",
       "826   2.241112       sexy\n",
       "687   2.248935   paradise\n",
       "1121  2.343125        woo\n",
       "224   2.385163       dead\n",
       "37    2.435344         as\n",
       "431   2.548785       head\n",
       "394   2.650652      gonna\n",
       "1137  2.772622      wrong\n",
       "1052  2.809879       upon\n",
       "562   2.818145       lost\n",
       "890   2.827065  something\n",
       "1129  2.836724      worry\n",
       "393   3.551756       gone"
      ]
     },
     "execution_count": 44,
     "metadata": {},
     "output_type": "execute_result"
    }
   ],
   "source": [
    "importance.sort_values('weight', ascending=True).tail(30)"
   ]
  },
  {
   "cell_type": "code",
   "execution_count": 46,
   "id": "beneficial-coupon",
   "metadata": {},
   "outputs": [
    {
     "data": {
      "text/html": [
       "<div>\n",
       "<style scoped>\n",
       "    .dataframe tbody tr th:only-of-type {\n",
       "        vertical-align: middle;\n",
       "    }\n",
       "\n",
       "    .dataframe tbody tr th {\n",
       "        vertical-align: top;\n",
       "    }\n",
       "\n",
       "    .dataframe thead th {\n",
       "        text-align: right;\n",
       "    }\n",
       "</style>\n",
       "<table border=\"1\" class=\"dataframe\">\n",
       "  <thead>\n",
       "    <tr style=\"text-align: right;\">\n",
       "      <th></th>\n",
       "      <th>beyonce</th>\n",
       "      <th>coldplay</th>\n",
       "    </tr>\n",
       "  </thead>\n",
       "  <tbody>\n",
       "    <tr>\n",
       "      <th>dance</th>\n",
       "      <td>0.703633</td>\n",
       "      <td>0.296367</td>\n",
       "    </tr>\n",
       "    <tr>\n",
       "      <th>sky</th>\n",
       "      <td>0.120771</td>\n",
       "      <td>0.879229</td>\n",
       "    </tr>\n",
       "    <tr>\n",
       "      <th>f*ck</th>\n",
       "      <td>0.706996</td>\n",
       "      <td>0.293004</td>\n",
       "    </tr>\n",
       "    <tr>\n",
       "      <th>let's dance tonight</th>\n",
       "      <td>0.867089</td>\n",
       "      <td>0.132911</td>\n",
       "    </tr>\n",
       "  </tbody>\n",
       "</table>\n",
       "</div>"
      ],
      "text/plain": [
       "                      beyonce  coldplay\n",
       "dance                0.703633  0.296367\n",
       "sky                  0.120771  0.879229\n",
       "f*ck                 0.706996  0.293004\n",
       "let's dance tonight  0.867089  0.132911"
      ]
     },
     "execution_count": 46,
     "metadata": {},
     "output_type": "execute_result"
    }
   ],
   "source": [
    "test_words = [\n",
    "    'dance',\n",
    "    'sky',\n",
    "    'f*ck',\n",
    "    \"let's dance tonight\"\n",
    "]\n",
    "\n",
    "pred = best_model.predict_proba(test_words)\n",
    "\n",
    "pd.DataFrame(pred, \n",
    "             columns = best_model[1].classes_, \n",
    "             index=test_words\n",
    ")"
   ]
  }
 ],
 "metadata": {
  "kernelspec": {
   "display_name": "Python 3",
   "language": "python",
   "name": "python3"
  },
  "language_info": {
   "codemirror_mode": {
    "name": "ipython",
    "version": 3
   },
   "file_extension": ".py",
   "mimetype": "text/x-python",
   "name": "python",
   "nbconvert_exporter": "python",
   "pygments_lexer": "ipython3",
   "version": "3.8.8"
  }
 },
 "nbformat": 4,
 "nbformat_minor": 5
}
